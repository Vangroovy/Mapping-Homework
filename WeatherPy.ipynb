{
 "cells": [
  {
   "cell_type": "markdown",
   "metadata": {},
   "source": [
    "# WeatherPy\n",
    "----\n",
    "\n",
    "### Analysis\n",
    "* As expected, the weather becomes significantly warmer as one approaches the equator (0 Deg. Latitude). More interestingly, however, is the fact that the southern hemisphere tends to be warmer this time of year than the northern hemisphere. This may be due to the tilt of the earth.\n",
    "* There is no strong relationship between latitude and cloudiness. However, it is interesting to see that a strong band of cities sits at 0, 80, and 100% cloudiness.\n",
    "* There is no strong relationship between latitude and wind speed. However, in northern hemispheres there is a flurry of cities with over 20 mph of wind.\n",
    "\n",
    "---\n",
    "\n",
    "#### Note\n",
    "* Instructions have been included for each segment. You do not have to follow them exactly, but they are included to help you think through the steps."
   ]
  },
  {
   "cell_type": "code",
   "execution_count": 67,
   "metadata": {
    "scrolled": true
   },
   "outputs": [],
   "source": [
    "# Dependencies and Setup\n",
    "import matplotlib.pyplot as plt\n",
    "import pandas as pd\n",
    "import numpy as np\n",
    "import requests\n",
    "import time\n",
    "from matplotlib import pyplot as mp\n",
    "\n",
    "# Import API key\n",
    "from api_keys import api_key\n",
    "\n",
    "# Incorporated citipy to determine city based on latitude and longitude\n",
    "from citipy import citipy\n",
    "\n",
    "# Output File (CSV)\n",
    "output_data_file = \"output_data/cities.csv\"\n",
    "\n",
    "# Range of latitudes and longitudes\n",
    "lat_range = (-90, 90)\n",
    "lng_range = (-180, 180)"
   ]
  },
  {
   "cell_type": "markdown",
   "metadata": {},
   "source": [
    "## Generate Cities List"
   ]
  },
  {
   "cell_type": "code",
   "execution_count": 4,
   "metadata": {},
   "outputs": [],
   "source": [
    "# List for holding lat_lngs and cities\n",
    "lat_lngs = []\n",
    "cities = []\n",
    "countries = []\n",
    "lat = []\n",
    "long = []\n",
    "lat_longs = []\n",
    "\n",
    "# Create a set of random lat and lng combinations\n",
    "lats = np.random.uniform(low=-90.000, high=90.000, size=10)\n",
    "lngs = np.random.uniform(low=-180.000, high=180.000, size=10)\n",
    "lat_lngs = zip(lats, lngs)\n",
    "\n",
    "\n",
    "# Identify nearest city for each lat, lng combination\n",
    "for lat_lng in lat_lngs:\n",
    "    city = citipy.nearest_city(lat_lng[0], lat_lng[1]).city_name\n",
    "    country = citipy.nearest_city(lat_lng[0], lat_lng[1]).country_code\n",
    "    # If the city is unique, then add it to a our cities list\n",
    "    if city not in cities:\n",
    "        cities.append(city)\n",
    "        countries.append(country)\n",
    "        lat_longs.append(lat_lng)\n",
    "        type (lat_longs)"
   ]
  },
  {
   "cell_type": "code",
   "execution_count": 5,
   "metadata": {},
   "outputs": [
    {
     "name": "stdout",
     "output_type": "stream",
     "text": [
      "              City Country                     Latitude and Longitude\n",
      "0             lebu      cl   (-34.820109397505746, -92.5542096105621)\n",
      "1           atuona      pf   (-6.17986276874997, -121.32075466066124)\n",
      "2      tuktoyaktuk      ca   (86.24870646205483, -122.94878930586677)\n",
      "3         cherskiy      ru     (71.9154115667998, 163.09899769984213)\n",
      "4       diamantino      br  (-13.976493509584785, -56.03959783026919)\n",
      "5        tuatapere      nz   (-49.27552720561519, 159.31238842344823)\n",
      "6        nishihara      jp   (20.988098966680823, 131.98868652119216)\n",
      "7        hay river      ca   (63.56740100438128, -117.74836838617394)\n",
      "8          lesnoye      ru     (58.14170769286724, 35.80770285373811)\n",
      "9  arraial do cabo      br   (-54.6943937942028, -20.180011919650866)\n"
     ]
    },
    {
     "data": {
      "text/plain": [
       "10"
      ]
     },
     "execution_count": 5,
     "metadata": {},
     "output_type": "execute_result"
    }
   ],
   "source": [
    "#Build the matrix of city and countries\n",
    "city_country_pd = pd.DataFrame({\"City\":cities, \"Country\": countries, \"Latitude and Longitude\":lat_longs})\n",
    "print(city_country_pd)\n",
    "#Print the city count to confirm sufficient count\n",
    "len(cities)"
   ]
  },
  {
   "cell_type": "markdown",
   "metadata": {},
   "source": [
    "### Perform API Calls\n",
    "* Perform a weather check on each city using a series of successive API calls.\n",
    "* Include a print log of each city as it'sbeing processed (with the city number and city name).\n"
   ]
  },
  {
   "cell_type": "code",
   "execution_count": 36,
   "metadata": {},
   "outputs": [
    {
     "name": "stdout",
     "output_type": "stream",
     "text": [
      "{'coord': {'lon': 38.73, 'lat': 8.96}, 'weather': [{'id': 801, 'main': 'Clouds', 'description': 'few clouds', 'icon': '02n'}], 'base': 'stations', 'main': {'temp': 9.26, 'pressure': 1014.02, 'humidity': 91, 'temp_min': 9.26, 'temp_max': 9.26, 'sea_level': 1014.02, 'grnd_level': 769.56}, 'wind': {'speed': 1.76, 'deg': 316}, 'clouds': {'all': 24}, 'dt': 1551818155, 'sys': {'message': 0.0035, 'country': 'ET', 'sunrise': 1551757009, 'sunset': 1551800171}, 'id': 344979, 'name': 'Lebu', 'cod': 200}\n",
      "missing city lebu skip\n",
      "{'coord': {'lon': -139.03, 'lat': -9.8}, 'weather': [{'id': 800, 'main': 'Clear', 'description': 'clear sky', 'icon': '01d'}], 'base': 'stations', 'main': {'temp': 28.06, 'pressure': 1009.82, 'humidity': 100, 'temp_min': 28.06, 'temp_max': 28.06, 'sea_level': 1009.82, 'grnd_level': 1009.8}, 'wind': {'speed': 8.51, 'deg': 83.0001}, 'clouds': {'all': 0}, 'dt': 1551818125, 'sys': {'message': 0.0035, 'country': 'PF', 'sunrise': 1551799205, 'sunset': 1551843269}, 'id': 4020109, 'name': 'Atuona', 'cod': 200}\n",
      "missing city atuona skip\n",
      "{'coord': {'lon': -133.03, 'lat': 69.44}, 'weather': [{'id': 800, 'main': 'Clear', 'description': 'clear sky', 'icon': '02d'}], 'base': 'stations', 'main': {'temp': -13, 'pressure': 1021, 'humidity': 84, 'temp_min': -13, 'temp_max': -13}, 'visibility': 24140, 'wind': {'speed': 4.6, 'deg': 170}, 'clouds': {'all': 5}, 'dt': 1551816000, 'sys': {'type': 1, 'id': 942, 'message': 0.0047, 'country': 'CA', 'sunrise': 1551801293, 'sunset': 1551838421}, 'id': 6170031, 'name': 'Tuktoyaktuk', 'cod': 200}\n",
      "missing city tuktoyaktuk skip\n",
      "{'coord': {'lon': 161.3, 'lat': 68.75}, 'weather': [{'id': 803, 'main': 'Clouds', 'description': 'broken clouds', 'icon': '04n'}], 'base': 'stations', 'main': {'temp': -18.52, 'pressure': 1015.34, 'humidity': 68, 'temp_min': -18.52, 'temp_max': -18.52, 'sea_level': 1015.34, 'grnd_level': 1006.6}, 'wind': {'speed': 1.46, 'deg': 356.5}, 'clouds': {'all': 80}, 'dt': 1551818206, 'sys': {'message': 0.0077, 'country': 'RU', 'sunrise': 1551730753, 'sunset': 1551767700}, 'id': 2126199, 'name': 'Cherskiy', 'cod': 200}\n",
      "missing city cherskiy skip\n",
      "{'coord': {'lon': -56.44, 'lat': -14.4}, 'weather': [{'id': 501, 'main': 'Rain', 'description': 'moderate rain', 'icon': '10d'}], 'base': 'stations', 'main': {'temp': 28.04, 'pressure': 1010.5, 'humidity': 73, 'temp_min': 28.04, 'temp_max': 28.04, 'sea_level': 1010.5, 'grnd_level': 967.96}, 'wind': {'speed': 1.86, 'deg': 2.00009}, 'rain': {'3h': 3.1275}, 'clouds': {'all': 64}, 'dt': 1551818206, 'sys': {'message': 0.0036, 'country': 'BR', 'sunrise': 1551779263, 'sunset': 1551823571}, 'id': 3464724, 'name': 'Diamantino', 'cod': 200}\n",
      "missing city diamantino skip\n",
      "{'coord': {'lon': 167.69, 'lat': -46.13}, 'weather': [{'id': 800, 'main': 'Clear', 'description': 'clear sky', 'icon': '01n'}], 'base': 'stations', 'main': {'temp': 17.78, 'pressure': 1017, 'humidity': 94, 'temp_min': 17.78, 'temp_max': 17.78}, 'wind': {'speed': 0.45, 'deg': 81, 'gust': 1.79}, 'rain': {}, 'clouds': {'all': 0}, 'dt': 1551817810, 'sys': {'type': 3, 'id': 2008959, 'message': 0.0037, 'country': 'NZ', 'sunrise': 1551724244, 'sunset': 1551770984}, 'id': 2180815, 'name': 'Tuatapere', 'cod': 200}\n",
      "missing city tuatapere skip\n",
      "{'coord': {'lon': 139.53, 'lat': 35.74}, 'weather': [{'id': 300, 'main': 'Drizzle', 'description': 'light intensity drizzle', 'icon': '09n'}, {'id': 701, 'main': 'Mist', 'description': 'mist', 'icon': '50n'}, {'id': 500, 'main': 'Rain', 'description': 'light rain', 'icon': '10n'}], 'base': 'stations', 'main': {'temp': 8.59, 'pressure': 1022, 'humidity': 100, 'temp_min': 5.56, 'temp_max': 11.11}, 'visibility': 9656, 'wind': {'speed': 1.5, 'deg': 20}, 'clouds': {'all': 90}, 'dt': 1551816919, 'sys': {'type': 1, 'id': 8073, 'message': 0.0093, 'country': 'JP', 'sunrise': 1551733589, 'sunset': 1551775240}, 'id': 1850144, 'name': 'Nishihara', 'cod': 200}\n",
      "missing city nishihara skip\n",
      "{'coord': {'lon': -115.79, 'lat': 60.82}, 'weather': [{'id': 802, 'main': 'Clouds', 'description': 'scattered clouds', 'icon': '03d'}], 'base': 'stations', 'main': {'temp': -14, 'pressure': 1036, 'humidity': 84, 'temp_min': -14, 'temp_max': -14}, 'visibility': 24140, 'wind': {'speed': 2.1, 'deg': 330}, 'clouds': {'all': 40}, 'dt': 1551816000, 'sys': {'type': 1, 'id': 819, 'message': 0.0046, 'country': 'CA', 'sunrise': 1551796115, 'sunset': 1551835292}, 'id': 5972762, 'name': 'Hay River', 'cod': 200}\n",
      "missing city hay river skip\n",
      "{'coord': {'lon': 42.77, 'lat': 51.57}, 'weather': [{'id': 500, 'main': 'Rain', 'description': 'light rain', 'icon': '10n'}], 'base': 'stations', 'main': {'temp': 2.78, 'pressure': 991, 'humidity': 89, 'temp_min': 2.78, 'temp_max': 2.78}, 'wind': {'speed': 4.02, 'deg': 200, 'gust': 9.39}, 'rain': {'3h': 1.0775}, 'snow': {}, 'clouds': {'all': 92}, 'dt': 1551817996, 'sys': {'type': 3, 'id': 2016324, 'message': 0.0032, 'country': 'RU', 'sunrise': 1551757477, 'sunset': 1551797811}, 'id': 501468, 'name': 'Lesnoye', 'cod': 200}\n",
      "missing city lesnoye skip\n",
      "{'coord': {'lon': -42.02, 'lat': -22.97}, 'weather': [{'id': 802, 'main': 'Clouds', 'description': 'scattered clouds', 'icon': '03d'}], 'base': 'stations', 'main': {'temp': 28.51, 'pressure': 1015, 'humidity': 83, 'temp_min': 28, 'temp_max': 29}, 'visibility': 10000, 'wind': {'speed': 8.2, 'deg': 80}, 'clouds': {'all': 40}, 'dt': 1551816000, 'sys': {'type': 1, 'id': 8326, 'message': 0.0041, 'country': 'BR', 'sunrise': 1551775558, 'sunset': 1551820347}, 'id': 3471451, 'name': 'Arraial do Cabo', 'cod': 200}\n",
      "missing city arraial do cabo skip\n"
     ]
    }
   ],
   "source": [
    "## Save config information.\n",
    "url = \"http://api.openweathermap.org/data/2.5/weather?\"\n",
    "units = \"metric\"\n",
    "\n",
    "# Build partial query URL\n",
    "query_url = f\"{url}appid={api_key}&units={units}&q=\"\n",
    "\n",
    "#Set up response lists\n",
    "cloudiness = []\n",
    "date = []\n",
    "humidity = []\n",
    "max_temp = []\n",
    "wind_speed = []\n",
    "city_id = []\n",
    "latitude = []\n",
    "longitude = []\n",
    "\n",
    "#Find the weather for each city\n",
    "for city in cities:\n",
    "    # Get weather data, skip if the city name does not exist\n",
    "    #try:\n",
    "    response = requests.get(query_url + city).json()\n",
    "    print(response)\n",
    "    cloudiness.append(response['clouds']['all']) \n",
    "    humidity.append(response['main']['humidity'])       \n",
    "    max_temp.append(response['main']['temp_max'])        \n",
    "    wind_speed.append(response['wind']['speed'])     \n",
    "    city_id.append(response['id'])      \n",
    "    date.append(response['dt']) \n",
    "    latitude.append(response['coord']['lat'])\n",
    "    longitude.append(response['coord']['lat'])\n",
    "    #except(KeyError,IndexError):\n",
    "    print(f\"missing city\", city, \"skip\")\n",
    "    #print(city, city_id)"
   ]
  },
  {
   "cell_type": "markdown",
   "metadata": {},
   "source": [
    "### Convert Raw Data to DataFrame\n",
    "* Export the city data into a .csv.\n",
    "* Display the DataFrame"
   ]
  },
  {
   "cell_type": "code",
   "execution_count": 38,
   "metadata": {},
   "outputs": [
    {
     "data": {
      "text/html": [
       "<div>\n",
       "<style scoped>\n",
       "    .dataframe tbody tr th:only-of-type {\n",
       "        vertical-align: middle;\n",
       "    }\n",
       "\n",
       "    .dataframe tbody tr th {\n",
       "        vertical-align: top;\n",
       "    }\n",
       "\n",
       "    .dataframe thead th {\n",
       "        text-align: right;\n",
       "    }\n",
       "</style>\n",
       "<table border=\"1\" class=\"dataframe\">\n",
       "  <thead>\n",
       "    <tr style=\"text-align: right;\">\n",
       "      <th></th>\n",
       "      <th>City</th>\n",
       "      <th>City ID</th>\n",
       "      <th>Date</th>\n",
       "      <th>Max Temperature</th>\n",
       "      <th>Cloudiness</th>\n",
       "      <th>Humidity</th>\n",
       "      <th>Wind Speed</th>\n",
       "      <th>Latitude</th>\n",
       "      <th>Longitude</th>\n",
       "    </tr>\n",
       "  </thead>\n",
       "  <tbody>\n",
       "    <tr>\n",
       "      <th>0</th>\n",
       "      <td>lebu</td>\n",
       "      <td>344979</td>\n",
       "      <td>1551818155</td>\n",
       "      <td>9.26</td>\n",
       "      <td>24</td>\n",
       "      <td>91</td>\n",
       "      <td>1.76</td>\n",
       "      <td>8.96</td>\n",
       "      <td>8.96</td>\n",
       "    </tr>\n",
       "    <tr>\n",
       "      <th>1</th>\n",
       "      <td>atuona</td>\n",
       "      <td>4020109</td>\n",
       "      <td>1551818125</td>\n",
       "      <td>28.06</td>\n",
       "      <td>0</td>\n",
       "      <td>100</td>\n",
       "      <td>8.51</td>\n",
       "      <td>-9.80</td>\n",
       "      <td>-9.80</td>\n",
       "    </tr>\n",
       "    <tr>\n",
       "      <th>2</th>\n",
       "      <td>tuktoyaktuk</td>\n",
       "      <td>6170031</td>\n",
       "      <td>1551816000</td>\n",
       "      <td>-13.00</td>\n",
       "      <td>5</td>\n",
       "      <td>84</td>\n",
       "      <td>4.60</td>\n",
       "      <td>69.44</td>\n",
       "      <td>69.44</td>\n",
       "    </tr>\n",
       "    <tr>\n",
       "      <th>3</th>\n",
       "      <td>cherskiy</td>\n",
       "      <td>2126199</td>\n",
       "      <td>1551818206</td>\n",
       "      <td>-18.52</td>\n",
       "      <td>80</td>\n",
       "      <td>68</td>\n",
       "      <td>1.46</td>\n",
       "      <td>68.75</td>\n",
       "      <td>68.75</td>\n",
       "    </tr>\n",
       "    <tr>\n",
       "      <th>4</th>\n",
       "      <td>diamantino</td>\n",
       "      <td>3464724</td>\n",
       "      <td>1551818206</td>\n",
       "      <td>28.04</td>\n",
       "      <td>64</td>\n",
       "      <td>73</td>\n",
       "      <td>1.86</td>\n",
       "      <td>-14.40</td>\n",
       "      <td>-14.40</td>\n",
       "    </tr>\n",
       "  </tbody>\n",
       "</table>\n",
       "</div>"
      ],
      "text/plain": [
       "          City  City ID        Date  Max Temperature  Cloudiness  Humidity  \\\n",
       "0         lebu   344979  1551818155             9.26          24        91   \n",
       "1       atuona  4020109  1551818125            28.06           0       100   \n",
       "2  tuktoyaktuk  6170031  1551816000           -13.00           5        84   \n",
       "3     cherskiy  2126199  1551818206           -18.52          80        68   \n",
       "4   diamantino  3464724  1551818206            28.04          64        73   \n",
       "\n",
       "   Wind Speed  Latitude  Longitude  \n",
       "0        1.76      8.96       8.96  \n",
       "1        8.51     -9.80      -9.80  \n",
       "2        4.60     69.44      69.44  \n",
       "3        1.46     68.75      68.75  \n",
       "4        1.86    -14.40     -14.40  "
      ]
     },
     "execution_count": 38,
     "metadata": {},
     "output_type": "execute_result"
    }
   ],
   "source": [
    "city_file_df =pd.DataFrame({\"City\":cities, \"City ID\": city_id,\"Date\":date, \"Max Temperature\":max_temp, \n",
    "             \"Cloudiness\":cloudiness, \"Humidity\":humidity, \"Wind Speed\":wind_speed, \n",
    "            \"Latitude\":latitude, \"Longitude\":longitude})\n",
    "city_file_df.head()\n",
    "city_file.to_csv(city)\n"
   ]
  },
  {
   "cell_type": "markdown",
   "metadata": {},
   "source": [
    "### Plotting the Data\n",
    "* Use proper labeling of the plots using plot titles (including date of analysis) and axes labels.\n",
    "* Save the plotted figures as .pngs."
   ]
  },
  {
   "cell_type": "markdown",
   "metadata": {},
   "source": [
    "#### Latitude vs. Temperature Plot"
   ]
  },
  {
   "cell_type": "code",
   "execution_count": 68,
   "metadata": {},
   "outputs": [
    {
     "data": {
      "image/png": "[encoded data removed]",
      "text/plain": [
       "<Figure size 432x288 with 1 Axes>"
      ]
     },
     "metadata": {
      "needs_background": "light"
     },
     "output_type": "display_data"
    },
    {
     "data": {
      "text/plain": [
       "<Figure size 432x288 with 0 Axes>"
      ]
     },
     "metadata": {},
     "output_type": "display_data"
    }
   ],
   "source": [
    "#Scatterplot of Latitude vs Temp\n",
    "y = city_file_df['Max Temperature']\n",
    "x = city_file_df['Latitude']\n",
    "for i in range (len(city_file_df)):\n",
    "        \n",
    "    #plot each dot\n",
    "    plt.scatter(x.loc[i],y.loc[i], alpha=0.50, color=\"blue\")\n",
    "\n",
    "#add legend\n",
    "plt.title(\"Latitude vs. Temperature\")\n",
    "plt.ylabel('Max Temperature (C)')\n",
    "plt.xlabel('Latitude')\n",
    "plt.show()\n",
    "mp.savefig('Lat_vs_temp.png')"
   ]
  },
  {
   "cell_type": "markdown",
   "metadata": {},
   "source": [
    "#### Latitude vs. Humidity Plot"
   ]
  },
  {
   "cell_type": "code",
   "execution_count": 69,
   "metadata": {},
   "outputs": [
    {
     "data": {
      "image/png": "[encoded data removed]",
      "text/plain": [
       "<Figure size 432x288 with 1 Axes>"
      ]
     },
     "metadata": {
      "needs_background": "light"
     },
     "output_type": "display_data"
    },
    {
     "data": {
      "text/plain": [
       "<Figure size 432x288 with 0 Axes>"
      ]
     },
     "metadata": {},
     "output_type": "display_data"
    }
   ],
   "source": [
    "#Scatterplot of Latitude vs Humidity\n",
    "y = city_file_df['Humidity']\n",
    "x = city_file_df['Latitude']\n",
    "for i in range (len(city_file_df)):\n",
    "        \n",
    "    #plot each dot\n",
    "    plt.scatter(x.loc[i],y.loc[i], alpha=0.50,color=\"blue\")\n",
    "\n",
    "#add legend\n",
    "plt.title(\"Latitude vs. Humidity\")\n",
    "plt.ylabel('Humidity (%)')\n",
    "plt.xlabel('Latitude')\n",
    "plt.show()\n",
    "mp.savefig('Lat_vs_humidity.png')"
   ]
  },
  {
   "cell_type": "markdown",
   "metadata": {},
   "source": [
    "#### Latitude vs. Cloudiness Plot"
   ]
  },
  {
   "cell_type": "code",
   "execution_count": 70,
   "metadata": {},
   "outputs": [
    {
     "data": {
      "image/png": "[encoded data removed]",
      "text/plain": [
       "<Figure size 432x288 with 1 Axes>"
      ]
     },
     "metadata": {
      "needs_background": "light"
     },
     "output_type": "display_data"
    },
    {
     "data": {
      "text/plain": [
       "<Figure size 432x288 with 0 Axes>"
      ]
     },
     "metadata": {},
     "output_type": "display_data"
    }
   ],
   "source": [
    "#Scatterplot of Latitude vs Cloudiness\n",
    "y = city_file_df['Humidity']\n",
    "x = city_file_df['Latitude']\n",
    "for i in range (len(city_file_df)):\n",
    "        \n",
    "    #plot each dot\n",
    "    plt.scatter(x.loc[i],y.loc[i], alpha=0.50, color=\"blue\")\n",
    "\n",
    "#add legend\n",
    "plt.title(\"Latitude vs. Cloudiness\")\n",
    "plt.ylabel('Cloudiness (%)')\n",
    "plt.xlabel('Latitude')\n",
    "plt.show()\n",
    "mp.savefig('Lat_vs_cloudiness.png')"
   ]
  },
  {
   "cell_type": "markdown",
   "metadata": {},
   "source": [
    "#### Latitude vs. Wind Speed Plot"
   ]
  },
  {
   "cell_type": "code",
   "execution_count": 71,
   "metadata": {},
   "outputs": [
    {
     "data": {
      "image/png": "[encoded data removed]",
      "text/plain": [
       "<Figure size 432x288 with 1 Axes>"
      ]
     },
     "metadata": {
      "needs_background": "light"
     },
     "output_type": "display_data"
    },
    {
     "data": {
      "text/plain": [
       "<Figure size 432x288 with 0 Axes>"
      ]
     },
     "metadata": {},
     "output_type": "display_data"
    }
   ],
   "source": [
    "#Scatterplot of Latitude vs Wind Speed\n",
    "y = city_file_df['Latitude']\n",
    "x = city_file_df['Wind Speed']\n",
    "for i in range (len(city_file_df)):\n",
    "        \n",
    "    #plot each dot\n",
    "    plt.scatter(x.loc[i],y.loc[i], alpha=0.50, color=\"blue\")\n",
    "\n",
    "#add legend\n",
    "plt.title(\"Latitude vs. Wind Speed\")\n",
    "plt.ylabel('Wind Speed mph')\n",
    "plt.xlabel('Latitude')\n",
    "plt.show()\n",
    "mp.savefig('Lat_vs_windspeed.png')"
   ]
  },
  {
   "cell_type": "code",
   "execution_count": null,
   "metadata": {},
   "outputs": [],
   "source": []
  },
  {
   "cell_type": "code",
   "execution_count": null,
   "metadata": {},
   "outputs": [],
   "source": []
  }
 ],
 "metadata": {
  "anaconda-cloud": {},
  "kernelspec": {
   "display_name": "Python 3",
   "language": "python",
   "name": "python3"
  },
  "language_info": {
   "codemirror_mode": {
    "name": "ipython",
    "version": 3
   },
   "file_extension": ".py",
   "mimetype": "text/x-python",
   "name": "python",
   "nbconvert_exporter": "python",
   "pygments_lexer": "ipython3",
   "version": "3.7.1"
  }
 },
 "nbformat": 4,
 "nbformat_minor": 2
}
