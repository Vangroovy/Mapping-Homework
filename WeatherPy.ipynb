{
 "cells": [
  {
   "cell_type": "markdown",
   "metadata": {},
   "source": [
    "# WeatherPy\n",
    "----\n",
    "\n",
    "### Analysis\n",
    "* As expected, the weather becomes significantly warmer as one approaches the equator (0 Deg. Latitude). More interestingly, however, is the fact that the southern hemisphere tends to be warmer this time of year than the northern hemisphere. This may be due to the tilt of the earth.\n",
    "* There is no strong relationship between latitude and cloudiness. However, it is interesting to see that a strong band of cities sits at 0, 80, and 100% cloudiness.\n",
    "* There is no strong relationship between latitude and wind speed. However, in northern hemispheres there is a flurry of cities with over 20 mph of wind.\n",
    "\n",
    "---\n",
    "\n",
    "#### Note\n",
    "* Instructions have been included for each segment. You do not have to follow them exactly, but they are included to help you think through the steps."
   ]
  },
  {
   "cell_type": "code",
   "execution_count": 2,
   "metadata": {
    "scrolled": true
   },
   "outputs": [],
   "source": [
    "# Dependencies and Setup\n",
    "import matplotlib.pyplot as plt\n",
    "import pandas as pd\n",
    "import numpy as np\n",
    "import requests\n",
    "import time\n",
    "from matplotlib import pyplot as mp\n",
    "\n",
    "# Import API key\n",
    "from api_keys import api_key\n",
    "\n",
    "# Incorporated citipy to determine city based on latitude and longitude\n",
    "from citipy import citipy\n",
    "\n",
    "# Output File (CSV)\n",
    "output_data_file = \"output_data/cities.csv\"\n",
    "\n",
    "# Range of latitudes and longitudes\n",
    "lat_range = (-90, 90)\n",
    "lng_range = (-180, 180)"
   ]
  },
  {
   "cell_type": "markdown",
   "metadata": {},
   "source": [
    "## Generate Cities List"
   ]
  },
  {
   "cell_type": "code",
   "execution_count": 3,
   "metadata": {},
   "outputs": [],
   "source": [
    "# List for holding lat_lngs and cities\n",
    "lat_lngs = []\n",
    "cities = []\n",
    "countries = []\n",
    "lat = []\n",
    "long = []\n",
    "lat_longs = []\n",
    "\n",
    "# Create a set of random lat and lng combinations\n",
    "lats = np.random.uniform(low=-90.000, high=90.000, size=1500)\n",
    "lngs = np.random.uniform(low=-180.000, high=180.000, size=1500)\n",
    "lat_lngs = zip(lats, lngs)\n",
    "\n",
    "\n",
    "# Identify nearest city for each lat, lng combination\n",
    "for lat_lng in lat_lngs:\n",
    "    city = citipy.nearest_city(lat_lng[0], lat_lng[1]).city_name\n",
    "    country = citipy.nearest_city(lat_lng[0], lat_lng[1]).country_code\n",
    "    # If the city is unique, then add it to a our cities list\n",
    "    if city not in cities:\n",
    "        cities.append(city)\n",
    "        countries.append(country)\n",
    "        lat_longs.append(lat_lng)\n",
    "        "
   ]
  },
  {
   "cell_type": "code",
   "execution_count": 4,
   "metadata": {},
   "outputs": [
    {
     "name": "stdout",
     "output_type": "stream",
     "text": [
      "               City Country                     Latitude and Longitude\n",
      "0    vestmannaeyjar      is  (54.276691641187966, -22.477332368519598)\n",
      "1       port alfred      za   (-74.28992817904731, 37.488463823934694)\n",
      "2           rikitea      pf  (-76.62777084697957, -123.01267598054066)\n",
      "3             tabou      ci  (2.4450619525319155, -7.0502231288776045)\n",
      "4             lasem      id   (-5.970825993141048, 111.83640277526598)\n",
      "5  puerto escondido      mx    (5.214721010205466, -99.53977411065955)\n",
      "6         lipin bor      ru    (59.79728511760479, 37.789101874919794)\n",
      "7            atuona      pf  (-7.833502011962196, -145.42796244066045)\n",
      "8             kapaa      us  (10.223031178898026, -167.98371841235254)\n"
     ]
    },
    {
     "data": {
      "text/plain": [
       "9"
      ]
     },
     "execution_count": 4,
     "metadata": {},
     "output_type": "execute_result"
    }
   ],
   "source": [
    "#Print the city count to confirm sufficient count\n",
    "len(cities)"
   ]
  },
  {
   "cell_type": "markdown",
   "metadata": {},
   "source": [
    "### Perform API Calls\n",
    "* Perform a weather check on each city using a series of successive API calls.\n",
    "* Include a print log of each city as it'sbeing processed (with the city number and city name).\n"
   ]
  },
  {
   "cell_type": "code",
   "execution_count": 55,
   "metadata": {},
   "outputs": [
    {
     "name": "stdout",
     "output_type": "stream",
     "text": [
      "vestmannaeyjar processed\n",
      "port alfred processed\n",
      "rikitea processed\n",
      "tabou processed\n",
      "lasem processed\n",
      "puerto escondido processed\n",
      "lipin bor processed\n",
      "atuona processed\n",
      "kapaa processed\n"
     ]
    }
   ],
   "source": [
    "## Save config information.\n",
    "url = \"http://api.openweathermap.org/data/2.5/weather?\"\n",
    "units = \"metric\"\n",
    "\n",
    "# Build partial query URL\n",
    "query_url = f\"{url}appid={api_key}&units={units}&q=\"\n",
    "\n",
    "#Set up response lists\n",
    "cloudiness = []\n",
    "date = []\n",
    "humidity = []\n",
    "max_temp = []\n",
    "wind_speed = []\n",
    "city_id = []\n",
    "latitude = []\n",
    "longitude = []\n",
    "\n",
    "#Find the weather for each city\n",
    "for city in cities:\n",
    "    # Get weather data, skip if the city name does not exist\n",
    "    try:\n",
    "        response = requests.get(query_url + city).json()\n",
    "        cloudiness.append(response['clouds']['all']) \n",
    "        humidity.append(response['main']['humidity'])       \n",
    "        max_temp.append(response['main']['temp_max'])        \n",
    "        wind_speed.append(response['wind']['speed'])     \n",
    "        city_id.append(response['id'])      \n",
    "        date.append(response['dt']) \n",
    "        latitude.append(response['coord']['lat'])\n",
    "        longitude.append(response['coord']['lat'])\n",
    "    except(KeyError,IndexError):\n",
    "        print(f\"missing city\", city, \"skip\")\n",
    "    print(city, \"processed\")"
   ]
  },
  {
   "cell_type": "markdown",
   "metadata": {},
   "source": [
    "### Convert Raw Data to DataFrame\n",
    "* Export the city data into a .csv.\n",
    "* Display the DataFrame"
   ]
  },
  {
   "cell_type": "code",
   "execution_count": 56,
   "metadata": {},
   "outputs": [
    {
     "data": {
      "text/html": [
       "<div>\n",
       "<style scoped>\n",
       "    .dataframe tbody tr th:only-of-type {\n",
       "        vertical-align: middle;\n",
       "    }\n",
       "\n",
       "    .dataframe tbody tr th {\n",
       "        vertical-align: top;\n",
       "    }\n",
       "\n",
       "    .dataframe thead th {\n",
       "        text-align: right;\n",
       "    }\n",
       "</style>\n",
       "<table border=\"1\" class=\"dataframe\">\n",
       "  <thead>\n",
       "    <tr style=\"text-align: right;\">\n",
       "      <th></th>\n",
       "      <th>City</th>\n",
       "      <th>City ID</th>\n",
       "      <th>Date</th>\n",
       "      <th>Max Temperature</th>\n",
       "      <th>Cloudiness</th>\n",
       "      <th>Humidity</th>\n",
       "      <th>Wind Speed</th>\n",
       "      <th>Latitude</th>\n",
       "      <th>Longitude</th>\n",
       "    </tr>\n",
       "  </thead>\n",
       "  <tbody>\n",
       "    <tr>\n",
       "      <th>0</th>\n",
       "      <td>vestmannaeyjar</td>\n",
       "      <td>3412093</td>\n",
       "      <td>1552074636</td>\n",
       "      <td>3.52</td>\n",
       "      <td>76</td>\n",
       "      <td>95</td>\n",
       "      <td>15.11</td>\n",
       "      <td>63.44</td>\n",
       "      <td>63.44</td>\n",
       "    </tr>\n",
       "    <tr>\n",
       "      <th>1</th>\n",
       "      <td>port alfred</td>\n",
       "      <td>964432</td>\n",
       "      <td>1552074557</td>\n",
       "      <td>19.44</td>\n",
       "      <td>100</td>\n",
       "      <td>87</td>\n",
       "      <td>2.24</td>\n",
       "      <td>-33.59</td>\n",
       "      <td>-33.59</td>\n",
       "    </tr>\n",
       "    <tr>\n",
       "      <th>2</th>\n",
       "      <td>rikitea</td>\n",
       "      <td>4030556</td>\n",
       "      <td>1552074637</td>\n",
       "      <td>25.15</td>\n",
       "      <td>64</td>\n",
       "      <td>100</td>\n",
       "      <td>6.96</td>\n",
       "      <td>-23.12</td>\n",
       "      <td>-23.12</td>\n",
       "    </tr>\n",
       "    <tr>\n",
       "      <th>3</th>\n",
       "      <td>tabou</td>\n",
       "      <td>2281120</td>\n",
       "      <td>1552074637</td>\n",
       "      <td>28.40</td>\n",
       "      <td>64</td>\n",
       "      <td>96</td>\n",
       "      <td>4.51</td>\n",
       "      <td>4.42</td>\n",
       "      <td>4.42</td>\n",
       "    </tr>\n",
       "    <tr>\n",
       "      <th>4</th>\n",
       "      <td>lasem</td>\n",
       "      <td>8142546</td>\n",
       "      <td>1552071600</td>\n",
       "      <td>25.00</td>\n",
       "      <td>68</td>\n",
       "      <td>88</td>\n",
       "      <td>1.00</td>\n",
       "      <td>-6.99</td>\n",
       "      <td>-6.99</td>\n",
       "    </tr>\n",
       "  </tbody>\n",
       "</table>\n",
       "</div>"
      ],
      "text/plain": [
       "             City  City ID        Date  Max Temperature  Cloudiness  Humidity  \\\n",
       "0  vestmannaeyjar  3412093  1552074636             3.52          76        95   \n",
       "1     port alfred   964432  1552074557            19.44         100        87   \n",
       "2         rikitea  4030556  1552074637            25.15          64       100   \n",
       "3           tabou  2281120  1552074637            28.40          64        96   \n",
       "4           lasem  8142546  1552071600            25.00          68        88   \n",
       "\n",
       "   Wind Speed  Latitude  Longitude  \n",
       "0       15.11     63.44      63.44  \n",
       "1        2.24    -33.59     -33.59  \n",
       "2        6.96    -23.12     -23.12  \n",
       "3        4.51      4.42       4.42  \n",
       "4        1.00     -6.99      -6.99  "
      ]
     },
     "execution_count": 56,
     "metadata": {},
     "output_type": "execute_result"
    }
   ],
   "source": [
    "city_file_df =pd.DataFrame({\"City\":cities, \"City ID\": city_id,\"Date\":date, \"Max Temperature\":max_temp, \n",
    "             \"Cloudiness\":cloudiness, \"Humidity\":humidity, \"Wind Speed\":wind_speed, \n",
    "            \"Latitude\":latitude, \"Longitude\":longitude})\n",
    "city_file_df.to_csv(\"city.csv\")\n",
    "city_file_df.head()"
   ]
  },
  {
   "cell_type": "markdown",
   "metadata": {},
   "source": [
    "### Plotting the Data\n",
    "* Use proper labeling of the plots using plot titles (including date of analysis) and axes labels.\n",
    "* Save the plotted figures as .pngs."
   ]
  },
  {
   "cell_type": "code",
   "execution_count": 57,
   "metadata": {},
   "outputs": [
    {
     "name": "stdout",
     "output_type": "stream",
     "text": [
      "Mar 08 2019\n"
     ]
    }
   ],
   "source": [
    "#Determine the day the data is pulled\n",
    "type(city_file_df[\"Date\"][0])\n",
    "date = time.gmtime(city_file_df[\"Date\"][0])\n",
    "time_string = time.strftime(\"%b %d %Y\", date)\n",
    "print (time_string)"
   ]
  },
  {
   "cell_type": "markdown",
   "metadata": {},
   "source": [
    "#### Latitude vs. Temperature Plot"
   ]
  },
  {
   "cell_type": "code",
   "execution_count": 64,
   "metadata": {},
   "outputs": [
    {
     "data": {
      "image/png": "[encoded data removed]",
      "text/plain": [
       "<Figure size 720x360 with 1 Axes>"
      ]
     },
     "metadata": {
      "needs_background": "light"
     },
     "output_type": "display_data"
    },
    {
     "data": {
      "text/plain": [
       "<Figure size 432x288 with 0 Axes>"
      ]
     },
     "metadata": {},
     "output_type": "display_data"
    }
   ],
   "source": [
    "#Scatterplot of Latitude vs Temp\n",
    "y = city_file_df['Max Temperature']\n",
    "x = city_file_df['Latitude']\n",
    "fig, ax = plt.subplots(figsize=(10,5))\n",
    "for i in range (len(city_file_df)):\n",
    "        \n",
    "    #plot each dot\n",
    "    plt.scatter(x.loc[i],y.loc[i], alpha=0.50, color=\"blue\")\n",
    "\n",
    "#add legend\n",
    "plt.title(f\"Latitude vs. Temperature ({time_string})\")\n",
    "plt.ylabel('Max Temperature (C)')\n",
    "plt.xlabel('Latitude')\n",
    "\n",
    "#add gridlines\n",
    "ax.grid(color='grey', linestyle='-', linewidth=0.25, alpha=0.5) \n",
    "\n",
    "#display plot and save as a png\n",
    "plt.show()\n",
    "mp.savefig('Lat_vs_temp.png')"
   ]
  },
  {
   "cell_type": "markdown",
   "metadata": {},
   "source": [
    "#### Latitude vs. Humidity Plot"
   ]
  },
  {
   "cell_type": "code",
   "execution_count": 66,
   "metadata": {},
   "outputs": [
    {
     "data": {
      "image/png": "[encoded data removed]",
      "text/plain": [
       "<Figure size 720x360 with 1 Axes>"
      ]
     },
     "metadata": {
      "needs_background": "light"
     },
     "output_type": "display_data"
    },
    {
     "data": {
      "text/plain": [
       "<Figure size 432x288 with 0 Axes>"
      ]
     },
     "metadata": {},
     "output_type": "display_data"
    }
   ],
   "source": [
    "#Scatterplot of Latitude vs Humidity\n",
    "y = city_file_df['Humidity']\n",
    "x = city_file_df['Latitude']\n",
    "fig, ax = plt.subplots(figsize=(10,5))\n",
    "for i in range (len(city_file_df)):\n",
    "        \n",
    "    #plot each dot\n",
    "    plt.scatter(x.loc[i],y.loc[i], alpha=0.50,color=\"blue\")\n",
    "\n",
    "#add legend\n",
    "plt.title(f\"Latitude vs. Humidity({time_string})\")\n",
    "plt.ylabel('Humidity (%)')\n",
    "plt.xlabel('Latitude')\n",
    "\n",
    "#add gridlines\n",
    "ax.grid(color='grey', linestyle='-', linewidth=0.25, alpha=0.5) \n",
    "\n",
    "#Display plot and save as a png file\n",
    "plt.show()\n",
    "mp.savefig('Lat_vs_humidity.png')"
   ]
  },
  {
   "cell_type": "markdown",
   "metadata": {},
   "source": [
    "#### Latitude vs. Cloudiness Plot"
   ]
  },
  {
   "cell_type": "code",
   "execution_count": 65,
   "metadata": {},
   "outputs": [
    {
     "data": {
      "image/png": "[encoded data removed]",
      "text/plain": [
       "<Figure size 720x360 with 1 Axes>"
      ]
     },
     "metadata": {
      "needs_background": "light"
     },
     "output_type": "display_data"
    },
    {
     "data": {
      "text/plain": [
       "<Figure size 432x288 with 0 Axes>"
      ]
     },
     "metadata": {},
     "output_type": "display_data"
    }
   ],
   "source": [
    "#Scatterplot of Latitude vs Cloudiness\n",
    "y = city_file_df['Humidity']\n",
    "x = city_file_df['Latitude']\n",
    "fig, ax = plt.subplots(figsize=(10,5))\n",
    "for i in range (len(city_file_df)):\n",
    "        \n",
    "    #plot each dot\n",
    "    plt.scatter(x.loc[i],y.loc[i], alpha=0.50, color=\"blue\")\n",
    "\n",
    "#add legend\n",
    "plt.title(f\"Latitude vs. Cloudiness({time_string}) \")\n",
    "plt.ylabel('Cloudiness (%)')\n",
    "plt.xlabel('Latitude')\n",
    "\n",
    "#add gridlines\n",
    "ax.grid(color='grey', linestyle='-', linewidth=0.25, alpha=0.5) \n",
    "\n",
    "#Display plot and show as a png file\n",
    "plt.show()\n",
    "mp.savefig('Lat_vs_cloudiness.png')"
   ]
  },
  {
   "cell_type": "markdown",
   "metadata": {},
   "source": [
    "#### Latitude vs. Wind Speed Plot"
   ]
  },
  {
   "cell_type": "code",
   "execution_count": 67,
   "metadata": {},
   "outputs": [
    {
     "data": {
      "image/png": "[encoded data removed]",
      "text/plain": [
       "<Figure size 720x360 with 1 Axes>"
      ]
     },
     "metadata": {
      "needs_background": "light"
     },
     "output_type": "display_data"
    },
    {
     "data": {
      "text/plain": [
       "<Figure size 432x288 with 0 Axes>"
      ]
     },
     "metadata": {},
     "output_type": "display_data"
    }
   ],
   "source": [
    "#Scatterplot of Latitude vs Wind Speed\n",
    "x = city_file_df['Latitude']\n",
    "y = city_file_df['Wind Speed']\n",
    "fig, ax = plt.subplots(figsize=(10,5))\n",
    "\n",
    "for i in range (len(city_file_df)):\n",
    "        \n",
    "    #plot each dot\n",
    "    plt.scatter(x.loc[i],y.loc[i], alpha=0.50, color=\"blue\")\n",
    "\n",
    "#add titles and labels\n",
    "plt.title(f\"Latitude vs. Wind Speed ({time_string})\")\n",
    "plt.ylabel('Wind Speed mph')\n",
    "plt.xlabel('Latitude')\n",
    "\n",
    "#add gridlines\n",
    "ax.grid(color='grey', linestyle='-', linewidth=0.25, alpha=0.5) \n",
    "\n",
    "#plot and save as a png\n",
    "plt.show()\n",
    "mp.savefig('Lat_vs_windspeed.png')"
   ]
  },
  {
   "cell_type": "code",
   "execution_count": null,
   "metadata": {},
   "outputs": [],
   "source": []
  },
  {
   "cell_type": "code",
   "execution_count": null,
   "metadata": {},
   "outputs": [],
   "source": []
  }
 ],
 "metadata": {
  "anaconda-cloud": {},
  "kernelspec": {
   "display_name": "Python 3",
   "language": "python",
   "name": "python3"
  },
  "language_info": {
   "codemirror_mode": {
    "name": "ipython",
    "version": 3
   },
   "file_extension": ".py",
   "mimetype": "text/x-python",
   "name": "python",
   "nbconvert_exporter": "python",
   "pygments_lexer": "ipython3",
   "version": "3.7.1"
  }
 },
 "nbformat": 4,
 "nbformat_minor": 2
}
